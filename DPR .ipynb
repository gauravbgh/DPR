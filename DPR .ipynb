{
 "cells": [
  {
   "cell_type": "code",
   "execution_count": 32,
   "metadata": {},
   "outputs": [],
   "source": [
    "import re"
   ]
  },
  {
   "cell_type": "code",
   "execution_count": 33,
   "metadata": {},
   "outputs": [],
   "source": [
    "with open('area-3.txt') as f:\n",
    "    ar3 = f.readlines()\n",
    "\n",
    "with open('area-1.txt') as f:\n",
    "    ar1 = f.readlines()\n",
    "    \n",
    "with open('area-4.txt') as f:\n",
    "    ar4 = f.readlines()"
   ]
  },
  {
   "cell_type": "code",
   "execution_count": 34,
   "metadata": {},
   "outputs": [],
   "source": [
    "ar3_split= [x.replace('\\n','') for x in ar3 if len(x)>1]\n",
    "ar1_split= [x.replace('\\n','') for x in ar1 if len(x)>1]\n",
    "ar4_split= [x.replace('\\n','') for x in ar4 if len(x)>1]"
   ]
  },
  {
   "cell_type": "code",
   "execution_count": 36,
   "metadata": {},
   "outputs": [],
   "source": [
    "#ar4_split"
   ]
  },
  {
   "cell_type": "code",
   "execution_count": 37,
   "metadata": {},
   "outputs": [],
   "source": [
    "def monitored_well(dpr_list):\n",
    "    indx= dpr_list.index([ i for i in dpr_list if re.search('.*[mM]onitored.*', i)][0])\n",
    "    mon_well= dpr_list[indx+1].rstrip('.')\n",
    "    return (mon_well)"
   ]
  },
  {
   "cell_type": "code",
   "execution_count": 38,
   "metadata": {},
   "outputs": [],
   "source": [
    "#monitored_well(ar4_split)"
   ]
  },
  {
   "cell_type": "code",
   "execution_count": 39,
   "metadata": {},
   "outputs": [],
   "source": [
    "def tpr(dpr_list):\n",
    "    try:\n",
    "        indx= dpr_list.index([ i for i in dpr_list if re.search('\\*TPR.*', i)][0])\n",
    "        if len(dpr_list[indx])>7:\n",
    "            tpr= dpr_list[indx].split(' ')[-1]\n",
    "            tpr= tpr.rstrip('.')\n",
    "        else:\n",
    "            tpr= dpr_list[indx+1].rstrip('.')\n",
    "        tpr= tpr.replace(' ','')\n",
    "        return(tpr)\n",
    "    except IndexError:\n",
    "        return ('')"
   ]
  },
  {
   "cell_type": "code",
   "execution_count": 40,
   "metadata": {},
   "outputs": [],
   "source": [
    "#tpr(ar3_split)"
   ]
  },
  {
   "cell_type": "code",
   "execution_count": 41,
   "metadata": {},
   "outputs": [],
   "source": [
    "def remark(dpr_list):\n",
    "    remarks=[]\n",
    "    ind_remark= dpr_list.index([ i for i in dpr_list if re.search('[rR]emarks.*', i)][0])\n",
    "    ind_pressure= dpr_list.index([ i for i in dpr_list if re.search('[wW]ell\\s?head .*', i)][0])\n",
    "    for i in range(1, (ind_pressure-ind_remark)):\n",
    "        remark= dpr_list[ind_remark+i]\n",
    "        key= re.search('(\\d+.) (\\*.+\\*)(\\s?:?\\s?)(.+)', remark)\n",
    "        well_no = (key.group(2)).strip('*').rstrip(':')\n",
    "        remarks.append('*{0}:* {1}'.format(well_no, key.group(4)))\n",
    "    return(remarks)"
   ]
  },
  {
   "cell_type": "code",
   "execution_count": 42,
   "metadata": {},
   "outputs": [],
   "source": [
    "#remark(ar4_split)"
   ]
  },
  {
   "cell_type": "code",
   "execution_count": 43,
   "metadata": {},
   "outputs": [],
   "source": [
    "def wellhead_press(dpr_list):\n",
    "    start= dpr_list.index([ i for i in dpr_list if re.search('[wW]ell\\s?head .*', i)][0])\n",
    "    stop= dpr_list.index([ i for i in dpr_list if re.search('[rR]egard.*', i)][0])\n",
    "    out= dpr_list[(start+1):stop]\n",
    "    return(out)"
   ]
  },
  {
   "cell_type": "code",
   "execution_count": 44,
   "metadata": {},
   "outputs": [],
   "source": [
    "#wellhead_press(ar3_split)"
   ]
  },
  {
   "cell_type": "code",
   "execution_count": 45,
   "metadata": {},
   "outputs": [],
   "source": [
    "if len(ar4_split)>4:\n",
    "    total_wells_monitored= monitored_well(ar1_split)+(',\\n')+monitored_well(ar3_split)+(',\\n')+monitored_well(ar4_split)+('.')\n",
    "    tpr_total= tpr(ar1_split) + (',') + tpr(ar3_split) + ('.') + tpr(ar4_split)\n",
    "    total_remarks= remark(ar1_split)+remark(ar3_split)+remark(ar4_split)\n",
    "    remarks_print= ''\n",
    "    for i in range(len(total_remarks)):\n",
    "        remarks_print= remarks_print + str(i+1) + ') ' + total_remarks[i]+ '\\n'\n",
    "    total_pressure= wellhead_press(ar1_split)+ wellhead_press(ar3_split)+ wellhead_press(ar4_split)\n",
    "    pressures= ''\n",
    "    for i in range(len(total_pressure)):\n",
    "        pressures= pressures + total_pressure[i]+ '\\n'\n",
    "else:\n",
    "    total_wells_monitored= monitored_well(ar1_split)+(',\\n')+monitored_well(ar3_split)+('.')\n",
    "    tpr_total= tpr(ar1_split) + (',') + tpr(ar3_split) + ('.')\n",
    "    total_remarks= remark(ar1_split)+remark(ar3_split)\n",
    "    remarks_print= ''\n",
    "    for i in range(len(total_remarks)):\n",
    "        remarks_print= remarks_print + str(i+1) + ') ' + total_remarks[i]+ '\\n'\n",
    "    total_pressure= wellhead_press(ar1_split)+ wellhead_press(ar3_split)\n",
    "    pressures= ''\n",
    "    for i in range(len(total_pressure)):\n",
    "        pressures= pressures + total_pressure[i]+ '\\n'\n",
    "#print(total_wells_monitored)\n",
    "#print(tpr_total)\n",
    "#print(remarks_print)\n",
    "#print(pressures)"
   ]
  },
  {
   "cell_type": "code",
   "execution_count": 51,
   "metadata": {},
   "outputs": [
    {
     "data": {
      "text/plain": [
       "'Sir,\\n*A/Lift DPR on 21/5/2021*\\n*Wells Monitored*\\nA#034,106,168,211,214,214,219,222,233,238,239,240,246,251,267,270,274,293,294,296,298,320,321,324,330,332,337,341,341,347,347,348,350,352,364,368,374,377,378,379,\\nG#53,80,120,153,162,232,310,339,340,349,362,438,439,516,535,561,608,668,698,704,713,725,739,741,743,745,754,763,766,767,771,774,777.\\n*TPR:*\\nA#337,A#276,G#80,561.\\n*Remarks:*\\n1) *A#343,324,216(4):* Charged casing with extra injection to recover oil losses due to condensate ingress in lift gas line. \\n2) *A#034,368,168,334(4):* Refreshed adjustable choke for proper gas injection due to condensate interference.\\n3) *A#350(4)(T):* Observed feeble flow with Chp dropping upto 0ksc during off injection. Rocked the well multiple times but proper flow couldn\\'t be established. Charged the casing and tubing upto 33ksc, on releasing annulus pressure, tubing pressure dropped simultaneously establishing tubing-annulus communication. Recommended for WOR. \\n4) *A#251(4)(T):* Observed flow behaviour during injection, found well loaded. Rocked the well and improved flow. ETCC timing set as 23/07min (OFF/ON). Well under observation. \\n5) *A#337(4)(T):* Observed improved flow post ETCC timing change from 45/15 to 28/12min (OFF/ON). Well flowing at Chp-28ksc, Thp-14ksc during injection. Well under observation. \\n6) *ETCC(GGS-3,4,6)(Ar-1):* Checked all the ETCC in the GGS as well as at wellsite and ensured proper working.\\n7) *G#561(Bhel-9)(WOR Activation)(7):* Well found flowing with kicks at an interval of 45 mins with CHP varying from 84-86 ksc, increased choke setting to 6/64\", now flowing normally,total 48 mÂ³ knocked out till evening, well diverted to GGS for night shift.\\n8) *G#766 & 741(EPS-253):* Observed flow behaviour and found feeble flow at CHP 86 ksc and 98Ksc respectively. Charged casing with excess lift gas and established proper flow.\\n9) *G#766(EPS-253):* Observed flow behaviour and predominantly gas circulation at CHP 82ksc. Charged casing with excess lift gas and established flow.\\n10) *G#725 & 608( EPS-253):* Found gas lift temporarily closed. Resumed lift gas injection after concurrence of EPS-253 team. Charged casing with excess lift gas and established proper flow.\\n11) *G#745(EPS-253):* Observed flow behaviour and well flowing at CHP 78ksc and THP 18Ksc. However, noticed insufficient lift gas flow through adjustable choke. Refreshed adjustable choke and allowed proper lift gas injection.\\n12) *G#747 & 765( EPS-253):* Wellsite not approachable due to water flooding.\\n13) *G#739,746,777,767(EPS-253):* Observed flow behaviour and found wells flowing normal at usual CHP and THP. Refreshed adjustable choke in order to allow proper gas injection. \\n14) *G#310,340,(6),80,232,771,339,349(5):* Observed flow behaviour and found wells flowing normal at usual CHP and THP. Refreshed adjustable choke in order to allow proper gas injection. \\n*Wellhead pressure:*\\nA#238: 32/15.5/04 (10)\\nA#330: 06/03/02 (10)\\nA#332: 14.5/06/4.5 (10)\\nA#15: 32/7/04 (12)\\nA#240: 33/07/04 (08)\\nA#246: 34/07/3.5 (12)\\nA#239: 31/07/3.5 (10)\\nA#293: 32/6.5/03 (12)\\nA#110: 13.5/6/03 (10)\\nA#211: 34/9.5/07 (10)\\nA#219: 29/06/03 (12)\\nA#270: 32.5/19/4.5 (10)\\nA#293: 32.5/6.5/03 (10)\\nA#299: 23/10/06 (10)\\nA#298: 29.5/3.5/03 (12)\\nA#320: 14.5/08/03 (10)\\nA#348: 30/10/04 (10)\\nA#255: 33/07/03 (12)\\nA#267: 31/07/04 (10)\\nA#350: 26/05/3.5 (15) \\nA#216: 22/06/06 (WB)\\nA#378: 23/05/05 (WB)\\nA#321: 23/7.5/5.5 (12)\\nA#278: 31.5/06/04 (12)\\nA#249: 33/05/04 (15)\\nA#242: 31/06/04 (12)\\nA#273: 26/12/04 (12)\\nA#307: 31/06/04 (12)\\nA#377: 23/05/04 (12)\\nA#372: 25/7.5/05 (12)\\nA#343: 12/03/03 (WB)\\nA#034: 28/10/05 (12)\\nA#379: 21/04/04 (WB)\\nA#319: 27/05/05 (WB)\\nA#214: 31/04/04 (WB)\\nA#324: 24/05/05 (WB)\\nA#168: 22/14/07 (10)\\nG#713: 78/12/12 (WB)\\nG#698: 82/20/20 (WB)\\nG#739: 34/10/10 (WB)\\nG#766: 86/22/22 (WB)\\nG#774: 72/22/22 (WB)\\nG#763: 70/15/15 (WB)\\nG#746: 98/30/30 (WB)\\nG#754: 32/09/09 (WB)\\nG#777: 78/28/22 (12)\\nG#745: 78/18/18 (WB)\\nG#767: 32/20/20 (WB)\\nG#608: 105/25/12 (12)\\nG#725: 86/20/12 (12)\\nG#741: 98/26/26 (WB)\\nG#080: 112/20/20 (WB)\\nG#771: 70/20/08 (12) \\nG#053: 80/12/12 (WB)\\nG#668: 112/10/10 (WB)\\nG#535: 80/12/12 (WB)\\nG#340: 80/18/18 (WB)\\nG#310: 90/12/11 (WB)\\nG#232: 110/12/12 (WB)\\nG#339: 90/21/08 (10) \\nG#349: 60/12/12 (WB)\\nG#120: 52/10/10 (WB)\\nG#362: 40/05/05 (WB)\\nG#153: 55/14/14 (WB)\\nG#162: 54/12/12 (WB)\\nG#704: 54/10/10 (WB)\\nG#516: 30/17/05 (14)\\nG#561: 86/08/08 (WB)\\nG#438: 60/32/09 (10)\\n*Team Details*\\nAREA                No. of               No. Of \\n                         Teams.            Persons\\n*Ar-3*                *3*                    *3*\\n\\nRegards\\nGairik Das\\n'"
      ]
     },
     "execution_count": 51,
     "metadata": {},
     "output_type": "execute_result"
    }
   ],
   "source": [
    "import datetime\n",
    "abc= datetime.date.today()\n",
    "\n",
    "final= \"\"\"Sir,\n",
    "*A/Lift DPR on {0}/{1}/{2}*\n",
    "*Wells Monitored*\n",
    "{3}\n",
    "*TPR:*\n",
    "{4}\n",
    "*Remarks:*\n",
    "{5}*Wellhead pressure:*\n",
    "{6}\n",
    "Regards\n",
    "Gairik Das\n",
    "\"\"\".format(abc.day, abc.month, abc.year, total_wells_monitored, tpr_total, remarks_print,pressures)\n",
    "final"
   ]
  },
  {
   "cell_type": "code",
   "execution_count": 53,
   "metadata": {},
   "outputs": [
    {
     "name": "stdout",
     "output_type": "stream",
     "text": [
      "Sir,\n",
      "*A/Lift DPR on 21/5/2021*\n",
      "*Wells Monitored*\n",
      "A#034,106,168,211,214,214,219,222,233,238,239,240,246,251,267,270,274,293,294,296,298,320,321,324,330,332,337,341,341,347,347,348,350,352,364,368,374,377,378,379,\n",
      "G#53,80,120,153,162,232,310,339,340,349,362,438,439,516,535,561,608,668,698,704,713,725,739,741,743,745,754,763,766,767,771,774,777.\n",
      "*TPR:*\n",
      "A#337,A#276,G#80,561.\n",
      "*Remarks:*\n",
      "1) *A#343,324,216(4):* Charged casing with extra injection to recover oil losses due to condensate ingress in lift gas line. \n",
      "2) *A#034,368,168,334(4):* Refreshed adjustable choke for proper gas injection due to condensate interference.\n",
      "3) *A#350(4)(T):* Observed feeble flow with Chp dropping upto 0ksc during off injection. Rocked the well multiple times but proper flow couldn't be established. Charged the casing and tubing upto 33ksc, on releasing annulus pressure, tubing pressure dropped simultaneously establishing tubing-annulus communication. Recommended for WOR. \n",
      "4) *A#251(4)(T):* Observed flow behaviour during injection, found well loaded. Rocked the well and improved flow. ETCC timing set as 23/07min (OFF/ON). Well under observation. \n",
      "5) *A#337(4)(T):* Observed improved flow post ETCC timing change from 45/15 to 28/12min (OFF/ON). Well flowing at Chp-28ksc, Thp-14ksc during injection. Well under observation. \n",
      "6) *ETCC(GGS-3,4,6)(Ar-1):* Checked all the ETCC in the GGS as well as at wellsite and ensured proper working.\n",
      "7) *G#561(Bhel-9)(WOR Activation)(7):* Well found flowing with kicks at an interval of 45 mins with CHP varying from 84-86 ksc, increased choke setting to 6/64\", now flowing normally,total 48 mÂ³ knocked out till evening, well diverted to GGS for night shift.\n",
      "8) *G#766 & 741(EPS-253):* Observed flow behaviour and found feeble flow at CHP 86 ksc and 98Ksc respectively. Charged casing with excess lift gas and established proper flow.\n",
      "9) *G#766(EPS-253):* Observed flow behaviour and predominantly gas circulation at CHP 82ksc. Charged casing with excess lift gas and established flow.\n",
      "10) *G#725 & 608( EPS-253):* Found gas lift temporarily closed. Resumed lift gas injection after concurrence of EPS-253 team. Charged casing with excess lift gas and established proper flow.\n",
      "11) *G#745(EPS-253):* Observed flow behaviour and well flowing at CHP 78ksc and THP 18Ksc. However, noticed insufficient lift gas flow through adjustable choke. Refreshed adjustable choke and allowed proper lift gas injection.\n",
      "12) *G#747 & 765( EPS-253):* Wellsite not approachable due to water flooding.\n",
      "13) *G#739,746,777,767(EPS-253):* Observed flow behaviour and found wells flowing normal at usual CHP and THP. Refreshed adjustable choke in order to allow proper gas injection. \n",
      "14) *G#310,340,(6),80,232,771,339,349(5):* Observed flow behaviour and found wells flowing normal at usual CHP and THP. Refreshed adjustable choke in order to allow proper gas injection. \n",
      "*Wellhead pressure:*\n",
      "A#238: 32/15.5/04 (10)\n",
      "A#330: 06/03/02 (10)\n",
      "A#332: 14.5/06/4.5 (10)\n",
      "A#15: 32/7/04 (12)\n",
      "A#240: 33/07/04 (08)\n",
      "A#246: 34/07/3.5 (12)\n",
      "A#239: 31/07/3.5 (10)\n",
      "A#293: 32/6.5/03 (12)\n",
      "A#110: 13.5/6/03 (10)\n",
      "A#211: 34/9.5/07 (10)\n",
      "A#219: 29/06/03 (12)\n",
      "A#270: 32.5/19/4.5 (10)\n",
      "A#293: 32.5/6.5/03 (10)\n",
      "A#299: 23/10/06 (10)\n",
      "A#298: 29.5/3.5/03 (12)\n",
      "A#320: 14.5/08/03 (10)\n",
      "A#348: 30/10/04 (10)\n",
      "A#255: 33/07/03 (12)\n",
      "A#267: 31/07/04 (10)\n",
      "A#350: 26/05/3.5 (15) \n",
      "A#216: 22/06/06 (WB)\n",
      "A#378: 23/05/05 (WB)\n",
      "A#321: 23/7.5/5.5 (12)\n",
      "A#278: 31.5/06/04 (12)\n",
      "A#249: 33/05/04 (15)\n",
      "A#242: 31/06/04 (12)\n",
      "A#273: 26/12/04 (12)\n",
      "A#307: 31/06/04 (12)\n",
      "A#377: 23/05/04 (12)\n",
      "A#372: 25/7.5/05 (12)\n",
      "A#343: 12/03/03 (WB)\n",
      "A#034: 28/10/05 (12)\n",
      "A#379: 21/04/04 (WB)\n",
      "A#319: 27/05/05 (WB)\n",
      "A#214: 31/04/04 (WB)\n",
      "A#324: 24/05/05 (WB)\n",
      "A#168: 22/14/07 (10)\n",
      "G#713: 78/12/12 (WB)\n",
      "G#698: 82/20/20 (WB)\n",
      "G#739: 34/10/10 (WB)\n",
      "G#766: 86/22/22 (WB)\n",
      "G#774: 72/22/22 (WB)\n",
      "G#763: 70/15/15 (WB)\n",
      "G#746: 98/30/30 (WB)\n",
      "G#754: 32/09/09 (WB)\n",
      "G#777: 78/28/22 (12)\n",
      "G#745: 78/18/18 (WB)\n",
      "G#767: 32/20/20 (WB)\n",
      "G#608: 105/25/12 (12)\n",
      "G#725: 86/20/12 (12)\n",
      "G#741: 98/26/26 (WB)\n",
      "G#080: 112/20/20 (WB)\n",
      "G#771: 70/20/08 (12) \n",
      "G#053: 80/12/12 (WB)\n",
      "G#668: 112/10/10 (WB)\n",
      "G#535: 80/12/12 (WB)\n",
      "G#340: 80/18/18 (WB)\n",
      "G#310: 90/12/11 (WB)\n",
      "G#232: 110/12/12 (WB)\n",
      "G#339: 90/21/08 (10) \n",
      "G#349: 60/12/12 (WB)\n",
      "G#120: 52/10/10 (WB)\n",
      "G#362: 40/05/05 (WB)\n",
      "G#153: 55/14/14 (WB)\n",
      "G#162: 54/12/12 (WB)\n",
      "G#704: 54/10/10 (WB)\n",
      "G#516: 30/17/05 (14)\n",
      "G#561: 86/08/08 (WB)\n",
      "G#438: 60/32/09 (10)\n",
      "*Team Details*\n",
      "AREA                No. of               No. Of \n",
      "                         Teams.            Persons\n",
      "*Ar-3*                *3*                    *3*\n",
      "\n",
      "Regards\n",
      "Gairik Das\n",
      "\n"
     ]
    }
   ],
   "source": [
    "axx= final.split('\\n')\n",
    "for i in axx:\n",
    "    print(i)"
   ]
  },
  {
   "cell_type": "code",
   "execution_count": 47,
   "metadata": {},
   "outputs": [],
   "source": [
    "with open('compiled.txt', 'w') as f:\n",
    "    f.write(final)"
   ]
  },
  {
   "cell_type": "code",
   "execution_count": 49,
   "metadata": {},
   "outputs": [
    {
     "name": "stdout",
     "output_type": "stream",
     "text": [
      "Sir,\n",
      "*A/Lift DPR on 21/5/2021*\n",
      "*Wells Monitored*\n",
      "A#034,106,168,211,214,214,219,222,233,238,239,240,246,251,267,270,274,293,294,296,298,320,321,324,330,332,337,341,341,347,347,348,350,352,364,368,374,377,378,379,\n",
      "G#53,80,120,153,162,232,310,339,340,349,362,438,439,516,535,561,608,668,698,704,713,725,739,741,743,745,754,763,766,767,771,774,777.\n",
      "*TPR:*\n",
      "A#337,A#276,G#80,561.\n",
      "*Remarks:*\n",
      "1) *A#343,324,216(4):* Charged casing with extra injection to recover oil losses due to condensate ingress in lift gas line. \n",
      "2) *A#034,368,168,334(4):* Refreshed adjustable choke for proper gas injection due to condensate interference.\n",
      "3) *A#350(4)(T):* Observed feeble flow with Chp dropping upto 0ksc during off injection. Rocked the well multiple times but proper flow couldn't be established. Charged the casing and tubing upto 33ksc, on releasing annulus pressure, tubing pressure dropped simultaneously establishing tubing-annulus communication. Recommended for WOR. \n",
      "4) *A#251(4)(T):* Observed flow behaviour during injection, found well loaded. Rocked the well and improved flow. ETCC timing set as 23/07min (OFF/ON). Well under observation. \n",
      "5) *A#337(4)(T):* Observed improved flow post ETCC timing change from 45/15 to 28/12min (OFF/ON). Well flowing at Chp-28ksc, Thp-14ksc during injection. Well under observation. \n",
      "6) *ETCC(GGS-3,4,6)(Ar-1):* Checked all the ETCC in the GGS as well as at wellsite and ensured proper working.\n",
      "7) *G#561(Bhel-9)(WOR Activation)(7):* Well found flowing with kicks at an interval of 45 mins with CHP varying from 84-86 ksc, increased choke setting to 6/64\", now flowing normally,total 48 mÂ³ knocked out till evening, well diverted to GGS for night shift.\n",
      "8) *G#766 & 741(EPS-253):* Observed flow behaviour and found feeble flow at CHP 86 ksc and 98Ksc respectively. Charged casing with excess lift gas and established proper flow.\n",
      "9) *G#766(EPS-253):* Observed flow behaviour and predominantly gas circulation at CHP 82ksc. Charged casing with excess lift gas and established flow.\n",
      "10) *G#725 & 608( EPS-253):* Found gas lift temporarily closed. Resumed lift gas injection after concurrence of EPS-253 team. Charged casing with excess lift gas and established proper flow.\n",
      "11) *G#745(EPS-253):* Observed flow behaviour and well flowing at CHP 78ksc and THP 18Ksc. However, noticed insufficient lift gas flow through adjustable choke. Refreshed adjustable choke and allowed proper lift gas injection.\n",
      "12) *G#747 & 765( EPS-253):* Wellsite not approachable due to water flooding.\n",
      "13) *G#739,746,777,767(EPS-253):* Observed flow behaviour and found wells flowing normal at usual CHP and THP. Refreshed adjustable choke in order to allow proper gas injection. \n",
      "14) *G#310,340,(6),80,232,771,339,349(5):* Observed flow behaviour and found wells flowing normal at usual CHP and THP. Refreshed adjustable choke in order to allow proper gas injection. \n",
      "*Wellhead pressure:*\n",
      "A#238: 32/15.5/04 (10)\n",
      "A#330: 06/03/02 (10)\n",
      "A#332: 14.5/06/4.5 (10)\n",
      "A#15: 32/7/04 (12)\n",
      "A#240: 33/07/04 (08)\n",
      "A#246: 34/07/3.5 (12)\n",
      "A#239: 31/07/3.5 (10)\n",
      "A#293: 32/6.5/03 (12)\n",
      "A#110: 13.5/6/03 (10)\n",
      "A#211: 34/9.5/07 (10)\n",
      "A#219: 29/06/03 (12)\n",
      "A#270: 32.5/19/4.5 (10)\n",
      "A#293: 32.5/6.5/03 (10)\n",
      "A#299: 23/10/06 (10)\n",
      "A#298: 29.5/3.5/03 (12)\n",
      "A#320: 14.5/08/03 (10)\n",
      "A#348: 30/10/04 (10)\n",
      "A#255: 33/07/03 (12)\n",
      "A#267: 31/07/04 (10)\n",
      "A#350: 26/05/3.5 (15) \n",
      "A#216: 22/06/06 (WB)\n",
      "A#378: 23/05/05 (WB)\n",
      "A#321: 23/7.5/5.5 (12)\n",
      "A#278: 31.5/06/04 (12)\n",
      "A#249: 33/05/04 (15)\n",
      "A#242: 31/06/04 (12)\n",
      "A#273: 26/12/04 (12)\n",
      "A#307: 31/06/04 (12)\n",
      "A#377: 23/05/04 (12)\n",
      "A#372: 25/7.5/05 (12)\n",
      "A#343: 12/03/03 (WB)\n",
      "A#034: 28/10/05 (12)\n",
      "A#379: 21/04/04 (WB)\n",
      "A#319: 27/05/05 (WB)\n",
      "A#214: 31/04/04 (WB)\n",
      "A#324: 24/05/05 (WB)\n",
      "A#168: 22/14/07 (10)\n",
      "G#713: 78/12/12 (WB)\n",
      "G#698: 82/20/20 (WB)\n",
      "G#739: 34/10/10 (WB)\n",
      "G#766: 86/22/22 (WB)\n",
      "G#774: 72/22/22 (WB)\n",
      "G#763: 70/15/15 (WB)\n",
      "G#746: 98/30/30 (WB)\n",
      "G#754: 32/09/09 (WB)\n",
      "G#777: 78/28/22 (12)\n",
      "G#745: 78/18/18 (WB)\n",
      "G#767: 32/20/20 (WB)\n",
      "G#608: 105/25/12 (12)\n",
      "G#725: 86/20/12 (12)\n",
      "G#741: 98/26/26 (WB)\n",
      "G#080: 112/20/20 (WB)\n",
      "G#771: 70/20/08 (12) \n",
      "G#053: 80/12/12 (WB)\n",
      "G#668: 112/10/10 (WB)\n",
      "G#535: 80/12/12 (WB)\n",
      "G#340: 80/18/18 (WB)\n",
      "G#310: 90/12/11 (WB)\n",
      "G#232: 110/12/12 (WB)\n",
      "G#339: 90/21/08 (10) \n",
      "G#349: 60/12/12 (WB)\n",
      "G#120: 52/10/10 (WB)\n",
      "G#362: 40/05/05 (WB)\n",
      "G#153: 55/14/14 (WB)\n",
      "G#162: 54/12/12 (WB)\n",
      "G#704: 54/10/10 (WB)\n",
      "G#516: 30/17/05 (14)\n",
      "G#561: 86/08/08 (WB)\n",
      "G#438: 60/32/09 (10)\n",
      "*Team Details*\n",
      "AREA                No. of               No. Of \n",
      "                         Teams.            Persons\n",
      "*Ar-3*                *3*                    *3*\n",
      "\n",
      "Regards\n",
      "Gairik Das\n",
      "\n"
     ]
    }
   ],
   "source": [
    "a=print(final)"
   ]
  },
  {
   "cell_type": "code",
   "execution_count": null,
   "metadata": {},
   "outputs": [],
   "source": []
  }
 ],
 "metadata": {
  "kernelspec": {
   "display_name": "Python 3",
   "language": "python",
   "name": "python3"
  },
  "language_info": {
   "codemirror_mode": {
    "name": "ipython",
    "version": 3
   },
   "file_extension": ".py",
   "mimetype": "text/x-python",
   "name": "python",
   "nbconvert_exporter": "python",
   "pygments_lexer": "ipython3",
   "version": "3.8.2"
  }
 },
 "nbformat": 4,
 "nbformat_minor": 4
}
